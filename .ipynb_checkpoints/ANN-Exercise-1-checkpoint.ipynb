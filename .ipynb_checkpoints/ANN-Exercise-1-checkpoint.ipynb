{
 "cells": [
  {
   "cell_type": "markdown",
   "metadata": {},
   "source": [
    "# ANN Training and Validation\n",
    "\n",
    "This exercise is split into two different parts, first you will be implementing and training a 2-layer neural network using a high level library, [pytorch](https://pytorch.org/). Secondly you will implement the neural network, the forward pass and the backward pass from scratch using numpy. The data which will be used is a subset of the [MNIST](http://yann.lecun.com/exdb/mnist/) dataset which contains handwritten numbers from 0-9. Examples can be seen in the image below.\n",
    "\n",
    "![MNIST digits](https://upload.wikimedia.org/wikipedia/commons/2/27/MnistExamples.png)\n",
    "\n",
    "## Literature\n",
    "Before starting with the implementation you should familiarize yourself with relevant sections from the [deep learning book](https://www.deeplearningbook.org/). This will help you understand the theory behind neural networks and what mathematical formulas are important for the task. The lectures has touched on most of these concepts too. Below you can find a list of recommended sections from the book. If you feel that you are already familiar with the contents of the section, feel free to skip it.\n",
    "\n",
    "* Chapter 5 - Machine learning basics\n",
    "    - Section 5.1 - Explains the basics of what we mean by learning and what supervised learning is.\n",
    "    - Section 5.2 - Talks about generalization, the generalization gap and under/overfitting.\n",
    "    - Section 5.3 - Validation and validation set.\n",
    "* Chapter 6 - Deep feedforward networks\n",
    "    - Section 6.0 - Discusses what do we mean by feedfoward networks and terminology such as input layer, output layer and hidden layer.\n",
    "    - Section 6.2 - Discusses what gradient based learning is and what cost functions are.\n",
    "    - Section 6.5 - Explains back-propagation. Important here are the formulas 6.49 - 6.52.\n",
    "    \n",
    "## Examination\n",
    "\n",
    "### Part 1\n",
    "* Implementation of a 2 layer NN (very similar to ex0)\n",
    "* Training of this 2 layer NN (once again, very similar to ex0)\n",
    "* Validation of the network during training\n",
    "    - Save the model which performs the best on the validation data\n",
    "* Graph the training loss vs validation loss\n",
    "* At least 85% accuracy on the validation data (remember to load the best performing model before performing the accuracy test)\n",
    "\n",
    "### Part 2\n",
    "* Implementation of a 2 layer NN using numpy\n",
    "* Training and validation of the 2 layer NN\n",
    "    - Once again, save the best performing model (can be done in memory)\n",
    "* Graph the training vs validation loss\n",
    "* At least 50% accuracy on the validation data (can be hard to get high accuracy)"
   ]
  },
  {
   "cell_type": "markdown",
   "metadata": {},
   "source": [
    "# Part 1\n",
    "\n",
    "## MNIST dataset preparation\n",
    "We will start by downloading and preparing the data such that it is usable for our purposes."
   ]
  },
  {
   "cell_type": "code",
   "execution_count": 1,
   "metadata": {},
   "outputs": [],
   "source": [
    "import torch\n",
    "import torch.nn as nn\n",
    "import torch.nn.functional as F\n",
    "import torch.optim as optim\n",
    "from torch.utils.data import DataLoader\n",
    "from torchvision import datasets, transforms\n",
    "import matplotlib.pyplot as plt\n",
    "import numpy\n",
    "import copy"
   ]
  },
  {
   "cell_type": "code",
   "execution_count": 2,
   "metadata": {},
   "outputs": [
    {
     "name": "stdout",
     "output_type": "stream",
     "text": [
      "Dataset information\n",
      "Training set size: 60000\n",
      "Validation set size: 10000\n",
      "Dataset sample:\n"
     ]
    },
    {
     "data": {
      "image/png": "[encoded data removed]",
      "text/plain": [
       "<Figure size 432x288 with 1 Axes>"
      ]
     },
     "metadata": {
      "needs_background": "light"
     },
     "output_type": "display_data"
    }
   ],
   "source": [
    "# Define the mini-batch size\n",
    "batch_size = 1000\n",
    "\n",
    "# Define how many epochs we want the training to be\n",
    "epochs = 15\n",
    "\n",
    "# Download the dataset and create the dataloaders\n",
    "mnist_train = datasets.MNIST(\"./\", train=True, download=True, transform=transforms.ToTensor())\n",
    "train_loader = DataLoader(mnist_train, batch_size=batch_size, shuffle=False)\n",
    "\n",
    "mnist_validation = datasets.MNIST(\"./\", train=False, download=True, transform=transforms.ToTensor())\n",
    "validation_loader = DataLoader(mnist_validation, batch_size=batch_size, shuffle=False)\n",
    "\n",
    "print(\"Dataset information\")\n",
    "print(f\"Training set size: {len(mnist_train)}\")\n",
    "print(f\"Validation set size: {len(mnist_validation)}\")\n",
    "\n",
    "def plot_digit(data):\n",
    "    data = data.view(28, 28)\n",
    "    plt.imshow(data, cmap=\"gray\")\n",
    "    plt.show()\n",
    "\n",
    "print(\"Dataset sample:\")\n",
    "images, labels = next(iter(train_loader))\n",
    "plot_digit(images[0])"
   ]
  },
  {
   "cell_type": "markdown",
   "metadata": {},
   "source": [
    "## Implement a classifier using pytorch\n",
    "\n",
    "Given the code above, your knowledge from the literature, lectures and exercise 0. Implement a 2 layer neural network using pytorch. This network should be capable of being trained and validated. The weights of the model which performs the best on the validation data should be stored to make it easy to use them. You are free to choose any optimizer and loss function. Just note that some loss functions require the labels to be 1 hot encoded. **As you will not use convolutional layers (later in the course), the input needs to be changed to a 1d tensor (see [view](https://pytorch.org/docs/stable/tensors.html?highlight=view#torch.Tensor.view)).**"
   ]
  },
  {
   "cell_type": "code",
   "execution_count": 3,
   "metadata": {},
   "outputs": [],
   "source": [
    "# Setup network\n",
    "# Config\n",
    "LR = 0.1\n",
    "\n",
    "# Create the 2-layer NN\n",
    "network = nn.Sequential(\n",
    "    nn.Linear(784, 100),\n",
    "    nn.ReLU(),\n",
    "    nn.Linear(100, 10)\n",
    ")\n",
    "\n",
    "# Init optimizer\n",
    "optimizer = optim.SGD(network.parameters(), lr=LR)\n",
    "\n",
    "# Init loss function\n",
    "loss_fn = nn.MSELoss()\n",
    "\n",
    "to_onehot = nn.Embedding(10, 10) \n",
    "to_onehot.weight.data = torch.eye(10)"
   ]
  },
  {
   "cell_type": "code",
   "execution_count": 4,
   "metadata": {},
   "outputs": [
    {
     "name": "stdout",
     "output_type": "stream",
     "text": [
      "Example output:\n"
     ]
    },
    {
     "data": {
      "image/png": "[encoded data removed]",
      "text/plain": [
       "<Figure size 432x288 with 1 Axes>"
      ]
     },
     "metadata": {
      "needs_background": "light"
     },
     "output_type": "display_data"
    },
    {
     "name": "stdout",
     "output_type": "stream",
     "text": [
      "Actual: 0 - Prediction: 8\n"
     ]
    }
   ],
   "source": [
    "# Prints the input image along with the prediction result\n",
    "def predict_img(image, index):\n",
    "    plot_digit(image)\n",
    "    \n",
    "    input_tensor = image.view(1, 784)\n",
    "    prediction = network(input_tensor)\n",
    "    guess = torch.argmax(prediction[0], dim=-1)\n",
    "    print(f\"Actual: {labels[index].item()} - Prediction: {guess.item()}\")\n",
    "\n",
    "print(\"Example output:\")\n",
    "predict_img(images[1], 1)"
   ]
  },
  {
   "cell_type": "code",
   "execution_count": 5,
   "metadata": {},
   "outputs": [],
   "source": [
    "# Predicts on validation set and returns the validation loss\n",
    "def validate():\n",
    "    # Predict on each batch of the validation set\n",
    "    for batch, (images, labels) in enumerate(validation_loader):\n",
    "        images = images.view(-1, 784)\n",
    "        labels = to_onehot(labels)\n",
    "        \n",
    "        prediction = network(images)\n",
    "        \n",
    "        loss = loss_fn(prediction, labels)\n",
    "        \n",
    "    return loss.item()"
   ]
  },
  {
   "cell_type": "code",
   "execution_count": 6,
   "metadata": {
    "scrolled": false
   },
   "outputs": [],
   "source": [
    "# Training of the network, after each \n",
    "def training():\n",
    "    train_losses = []\n",
    "    validation_losses = []\n",
    "    lowest_loss = 100 # keep track of lowest loss model during training\n",
    "\n",
    "    # Train on the training set\n",
    "    for epoch in range(epochs):\n",
    "        for batch, (images, labels) in enumerate(train_loader):\n",
    "            # Transform labels to one-hot\n",
    "            labels = to_onehot(labels)\n",
    "\n",
    "            # Reshape input images to single 784 vector\n",
    "            images = images.view(-1, 784)\n",
    "\n",
    "            prediction = network(images)\n",
    "\n",
    "            loss = loss_fn(prediction, labels)\n",
    "            \n",
    "            loss.backward()\n",
    "            \n",
    "            optimizer.step()\n",
    "            \n",
    "            optimizer.zero_grad()\n",
    "\n",
    "\n",
    "            # Print the epoch, batch, and loss\n",
    "            print(\n",
    "                '\\rEpoch {} [{}/{}] - Loss: {}'.format(\n",
    "                    epoch+1, batch+1, len(train_loader), loss\n",
    "                ),\n",
    "                end=''\n",
    "            )\n",
    "    \n",
    "        # save the current epochs training and validation loss\n",
    "        train_losses.append(loss.item())\n",
    "        val_loss = validate()\n",
    "        validation_losses.append(val_loss)\n",
    "        \n",
    "        # Check if validation loss is the best so far\n",
    "        if (val_loss < lowest_loss):\n",
    "            lowest_loss = val_loss\n",
    "            best_model = copy.deepcopy(network)\n",
    "\n",
    "    # plot the losses during training\n",
    "    plt.plot(range(1, epochs + 1), train_losses, label=\"Training\")\n",
    "    plt.plot(range(1, epochs + 1), validation_losses, label=\"Validation\")\n",
    "    plt.title(\"Training and validation loss\")\n",
    "    plt.xlabel(\"Epochs\")\n",
    "    plt.ylabel(\"Loss\")\n",
    "    plt.legend()\n",
    "    plt.show()\n",
    "    return best_model"
   ]
  },
  {
   "cell_type": "code",
   "execution_count": 7,
   "metadata": {},
   "outputs": [],
   "source": [
    "# Predicts on validation set (validation set is the same as test set)\n",
    "# using the model and returns the accuracy\n",
    "def test_accuracy(model):\n",
    "    correct = 0\n",
    "    # Predict on each batch of the validation set\n",
    "    for batch, (images, labels) in enumerate(validation_loader):\n",
    "        images = images.view(-1, 784)\n",
    "        predictions = model(images)\n",
    "        \n",
    "        # Collect the prediction result for each image in the batch\n",
    "        for i in range(len(images)):\n",
    "            guess = torch.argmax(predictions[i], dim=-1)\n",
    "            if (guess.item() == labels[i]):\n",
    "                correct += 1\n",
    "    \n",
    "    # Print and return accuracy\n",
    "    accuracy = correct / len(mnist_validation)\n",
    "    print(f\"Accuracy: {accuracy}\\n\")\n",
    "    return accuracy"
   ]
  },
  {
   "cell_type": "code",
   "execution_count": 8,
   "metadata": {
    "scrolled": false
   },
   "outputs": [
    {
     "name": "stdout",
     "output_type": "stream",
     "text": [
      "Accuracy: 0.1101\n",
      "\n",
      "Epoch 15 [60/60] - Loss: 0.025999799370765686"
     ]
    },
    {
     "data": {
      "image/png": "[encoded data removed]",
      "text/plain": [
       "<Figure size 432x288 with 1 Axes>"
      ]
     },
     "metadata": {
      "needs_background": "light"
     },
     "output_type": "display_data"
    }
   ],
   "source": [
    "# Train and validate\n",
    "test_accuracy(network)\n",
    "best_model = training()"
   ]
  },
  {
   "cell_type": "code",
   "execution_count": 9,
   "metadata": {},
   "outputs": [
    {
     "name": "stdout",
     "output_type": "stream",
     "text": [
      "Accuracy: 0.8917\n",
      "\n",
      "Accuracy: 0.8917\n",
      "\n"
     ]
    },
    {
     "data": {
      "text/plain": [
       "0.8917"
      ]
     },
     "execution_count": 9,
     "metadata": {},
     "output_type": "execute_result"
    }
   ],
   "source": [
    "# Calculate accuracy on validation set using the best model found during training\n",
    "test_accuracy(best_model)\n",
    "test_accuracy(network)"
   ]
  },
  {
   "cell_type": "markdown",
   "metadata": {},
   "source": [
    "\n",
    "# Part 2\n",
    "\n",
    "## Implement a classifier using numpy\n",
    "Implement a similar 2 layer neural network, without using a high-level machine learning library like pytorch. It should function the same as the network in task 1. The code block below contains code to change the training data from the DataLoader format to the \"raw\" numpy format. It also contains some comments to guide you in the right direction. **Please note that this solution should not \"scale\" hence it is 100% OK to just have two weight matrices variables.**\n",
    "\n",
    "### The foward pass\n",
    "This is easy. Recall that each differnt layer is calculated by the formula: \n",
    "$$ y = g(\\mathbf{W}*\\mathbf{x} + b) $$\n",
    "where $W$ is the weight matrix, $x$ the input, $b$ the bias and $g$ the non-linearity. For this exercise you are allowed to put $b = 0$ for simplicity when calculating the backwards pass.\n",
    "\n",
    "### Backward pass\n",
    "This can be tricky. In canvas there is supplementary material which explains back propogation and all the maths behind it. It should be under Extra material > Summary - Backpropagation.pdf. This together with the course book should be enough material for you to be able to implement the training algorithm.\n",
    "\n",
    "### Weight update\n",
    "Once you have calculated the gradient of both weight matrixes, this is updated by:\n",
    "$$ W_i = W_i - \\gamma \\dfrac{dL}{dW_i} $$\n",
    "where $\\gamma$ is the step size, or learning rate."
   ]
  },
  {
   "cell_type": "code",
   "execution_count": 10,
   "metadata": {
    "scrolled": false
   },
   "outputs": [
    {
     "ename": "NameError",
     "evalue": "name 'val_loss' is not defined",
     "output_type": "error",
     "traceback": [
      "\u001b[0;31m---------------------------------------------------------------------------\u001b[0m",
      "\u001b[0;31mNameError\u001b[0m                                 Traceback (most recent call last)",
      "\u001b[0;32m<ipython-input-10-b1904935b6d8>\u001b[0m in \u001b[0;36m<module>\u001b[0;34m()\u001b[0m\n\u001b[1;32m     70\u001b[0m             \u001b[0;31m# Compute loss\u001b[0m\u001b[0;34m\u001b[0m\u001b[0;34m\u001b[0m\u001b[0;34m\u001b[0m\u001b[0m\n\u001b[1;32m     71\u001b[0m             \u001b[0mloss\u001b[0m \u001b[0;34m=\u001b[0m \u001b[0;34m(\u001b[0m\u001b[0my_pred\u001b[0m \u001b[0;34m-\u001b[0m \u001b[0my\u001b[0m\u001b[0;34m)\u001b[0m \u001b[0;34m**\u001b[0m \u001b[0;36m2\u001b[0m\u001b[0;34m\u001b[0m\u001b[0;34m\u001b[0m\u001b[0m\n\u001b[0;32m---> 72\u001b[0;31m             \u001b[0mval_loss\u001b[0m\u001b[0;34m.\u001b[0m\u001b[0mappend\u001b[0m\u001b[0;34m(\u001b[0m\u001b[0mloss\u001b[0m\u001b[0;34m.\u001b[0m\u001b[0msum\u001b[0m\u001b[0;34m(\u001b[0m\u001b[0;34m)\u001b[0m \u001b[0;34m/\u001b[0m \u001b[0mbatch_size\u001b[0m\u001b[0;34m)\u001b[0m \u001b[0;31m# store for plotting\u001b[0m\u001b[0;34m\u001b[0m\u001b[0;34m\u001b[0m\u001b[0m\n\u001b[0m\u001b[1;32m     73\u001b[0m \u001b[0;34m\u001b[0m\u001b[0m\n\u001b[1;32m     74\u001b[0m \u001b[0mtotal\u001b[0m \u001b[0;34m=\u001b[0m \u001b[0;36m0\u001b[0m\u001b[0;34m\u001b[0m\u001b[0;34m\u001b[0m\u001b[0m\n",
      "\u001b[0;31mNameError\u001b[0m: name 'val_loss' is not defined"
     ]
    }
   ],
   "source": [
    "import numpy as np\n",
    "import matplotlib.pyplot as plt\n",
    "import sys\n",
    "\n",
    "D_in = 784   # Input size, images are 28x28 = 784 element vectors\n",
    "D_out = 10   # Output size, 10 digit classes\n",
    "H1 = 100     # Hidden layer size\n",
    "gamma = 1e-5 # Learning rate\n",
    "\n",
    "# Define network with one hidden layer, random initial weights\n",
    "w1 = np.random.randn(D_in, H1)\n",
    "w2 = np.random.randn(H1, D_out)\n",
    "\n",
    "# Training iterations\n",
    "# load a batch\n",
    "train_losses = []\n",
    "val_losses = []\n",
    "for epoch in range(epochs):\n",
    "    # Train (for each batch)\n",
    "    for inputs, labels in train_loader:\n",
    "        inputs = inputs.numpy()\n",
    "        labels = labels.numpy()\n",
    "        \n",
    "        # Predict on each sample in the mini-batch\n",
    "        for i in range(batch_size):\n",
    "            x = inputs[i].reshape((1, D_in))\n",
    "            y = np.eye(10)[labels[i]] # 1-hot encoding\n",
    "\n",
    "            # Forward pass\n",
    "            h = x.dot(w1)\n",
    "            h_relu = np.maximum(np.zeros((1, H1)), h)\n",
    "            y_pred = h_relu.dot(w2)\n",
    "\n",
    "            # Compute loss function, squared error\n",
    "            loss = (y_pred - y) ** 2\n",
    "            train_losses.append(loss.sum() / batch_size) # store MSE for plotting\n",
    "\n",
    "            # Compute gradients of square-error loss with respect to w1 and w2 using backpropagation\n",
    "            grad_h = np.where(h_relu > 0, 1, 0) # derivative of h_relu\n",
    "            grad_loss = 2 * (y_pred - y)\n",
    "            \n",
    "            # dL/dw2: gradient of the loss with respect to w2\n",
    "            grad_w2 = h_relu.T.dot(grad_loss)\n",
    "\n",
    "            # dL/dw1: gradient of the loss with respect to w1\n",
    "            grad_loss_w2 = grad_loss.dot(w2.T)\n",
    "            grad_h_loss_w2 = grad_h * grad_loss_w2\n",
    "            grad_w1 = x.T.dot(grad_h_loss_w2)\n",
    "            #dL_dw1 = np.dot(x.transpose(), np.multiply(h_relu_prime, np.dot(loss_prime, w2.transpose())))\n",
    "\n",
    "            # Update weights (minibatch stochastic gradient descent)\n",
    "            # we update for each prediction not after each minibatch\n",
    "            w1 -= gamma * grad_w1\n",
    "            w2 -= gamma * grad_w2\n",
    "    \n",
    "    # Validate the model\n",
    "    for inputs, labels in validation_loader:\n",
    "        inputs = inputs.numpy()\n",
    "        labels = labels.numpy()\n",
    "        # predict for each sample in batch\n",
    "        for i in range(batch_size):\n",
    "            x = inputs[i].reshape((1, D_in))\n",
    "            y = np.eye(10)[labels[i]] # 1-hot encoding\n",
    "\n",
    "            # predict\n",
    "            h = x.dot(w1)\n",
    "            h_relu = np.maximum(np.zeros((1, H1)), h)\n",
    "            y_pred = h_relu.dot(w2)\n",
    "            \n",
    "            # Compute loss\n",
    "            loss = (y_pred - y) ** 2\n",
    "            val_losses.append(loss.sum() / batch_size) # store for plotting\n",
    "\n",
    "total = 0\n",
    "correct = 0\n",
    "\n",
    "# Test the network against 1 validation batch\n",
    "for inputs, labels in validation_loader:\n",
    "    inputs = inputs.numpy()\n",
    "    labels = labels.numpy()\n",
    "\n",
    "    # predict for each sample in batch\n",
    "    for i in range(batch_size):\n",
    "        x = inputs[i].reshape((1, D_in))\n",
    "        \n",
    "        # predict\n",
    "        h = x.dot(w1)\n",
    "        h_relu = np.maximum(np.zeros((1, H1)), h)\n",
    "        y_pred = h_relu.dot(w2)\n",
    "\n",
    "        guess = np.argmax(y_pred)\n",
    "        if guess == labels[i]:\n",
    "            correct += 1\n",
    "        total += 1\n",
    "    break\n",
    "\n",
    "# Plot training and validation loss\n",
    "plt.plot(range(1, len(train_losses) + 1), train_losses)\n",
    "#plt.plot(range(1, len(val_losses) + 1), val_losses)\n",
    "plt.show()\n",
    "\n",
    "# Calculate accuracy on one validation batch\n",
    "print(f\"One validation batch:\\nAccuracy = {correct/total} (total={total}, correct={correct})\")"
   ]
  },
  {
   "cell_type": "markdown",
   "metadata": {},
   "source": [
    "# Optional task\n",
    "You have now implemented a 2-layer neural network from scratch. Use this new gained knowledge to create an implementation where you can create and train any sized network. This means that you should be able to specify the structure of the network and then train it using back-propagation."
   ]
  },
  {
   "cell_type": "code",
   "execution_count": null,
   "metadata": {},
   "outputs": [],
   "source": []
  }
 ],
 "metadata": {
  "kernelspec": {
   "display_name": "Python 3",
   "language": "python",
   "name": "python3"
  },
  "language_info": {
   "codemirror_mode": {
    "name": "ipython",
    "version": 3
   },
   "file_extension": ".py",
   "mimetype": "text/x-python",
   "name": "python",
   "nbconvert_exporter": "python",
   "pygments_lexer": "ipython3",
   "version": "3.6.12"
  }
 },
 "nbformat": 4,
 "nbformat_minor": 2
}
