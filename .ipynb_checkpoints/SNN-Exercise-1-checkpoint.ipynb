{
 "cells": [
  {
   "cell_type": "markdown",
   "metadata": {},
   "source": [
    "# 1 Introduction to Spiking Neural Networks (SNN) – D7046E @ LTU.SE\n",
    "\n",
    "The figure below illustrates a single neuron, see [Figure 1.2A](https://neuronaldynamics.epfl.ch/online/Ch1.S1.html) in Neuronal Dynamics. The dendrite, soma, and axon can be clearly distinguished.\n",
    "\n",
    "![Neuron](https://neuronaldynamics.epfl.ch/online/x2.png)\n",
    "\n",
    "Neurons communicate via action potentials that propagate along axons (nerves) to synapses on the dendrites of the target/receiving neurons. The most important feature of an action potential is the **time** when it occurs, while their amplitudes and shapes are similar. In spiking neuron models, action potentials are represented by discrete events called **spikes** that are defined by the time of occurrence and some kind of identifier of the source neuron.\n",
    "\n",
    "Spiking neuron models mimic natural neurons more closely than the activation-function based *units* of artificial neural networks (ANNs), which operate with *amplitudes* that qualitatively correspond to average spike frequencies. Spiking neurons have time-dependent states and can for example respond differently to two inputs with identical amplitudes but different temporal structure. Spiking neuron models are central in neuroscience and [neuromorphic engineering](https://www.frontiersin.org/journals/neuroscience/sections/neuromorphic-engineering).\n",
    "\n",
    "In this exercise you will investigate and perform numerical experiments with the leaky integrate-and-fire (LIF) model of neurons, see [Figure 1.6A](https://neuronaldynamics.epfl.ch/online/Ch1.S3.html) in the book and the lectures for further information.\n",
    "\n",
    "![LIF model](https://neuronaldynamics.epfl.ch/online/x12.png)\n",
    "<!-- ![LIF model](https://lcnwww.epfl.ch/gerstner/SPNM/img378.gif) -->\n",
    "\n",
    "In the LIF model we consider the cell membrane (big circle) of the neuron as a capacitor, $C$, that integrates an input current, $I(t)$, of ions from synapses. In addition, there is a parallel branch with a voltage source, $u_{rest}$, and a resistor, $R$, which corresponds to ion pumps and leakage of the cell membrane, respectively. When the membrane voltage, $u(t)$, reaches a threshold voltage, $u_{th}$, a spike is generated and $u(t)$ is reset. See the book for details.\n",
    "\n",
    "Simulators like [Brian2](https://brian2.readthedocs.io) and [Neuronify](https://ovilab.net/neuronify/) can be used to quickly configure and simulate spiking neural networks (SNNs) of LIF neurons. However, in order to develop an understanding of spiking neurons and neural networks you will solve the corresponding differential equations numerically in this exercise. Some sample code is included below to get you started, and the resulting code will be reused in a subsequent SNN exercise. \n",
    "\n",
    "You will also investigate the delta modulator receptor neuron model introduced in the lectures, which introduces a central concept used in neuromorphic sensor systems like [dynamic vision sensors](https://inivation.com/dvp/). The receptor neuron model can be used to convert input signals to spikes that can be further processed with an SNN.\n",
    "\n",
    "There are 10 mandatory tasks and a few optional tasks that you can perform to deepen your knowledge."
   ]
  },
  {
   "cell_type": "markdown",
   "metadata": {},
   "source": [
    "## 1.1 Libraries and generic functions"
   ]
  },
  {
   "cell_type": "code",
   "execution_count": 1,
   "metadata": {},
   "outputs": [],
   "source": [
    "# Enable inline plots in the notebook\n",
    "%matplotlib inline\n",
    "\n",
    "# Import library functions needed\n",
    "import numpy as np\n",
    "import matplotlib.pyplot as plt\n",
    "from matplotlib.ticker import MaxNLocator\n",
    "\n",
    "# Set default figure size\n",
    "plt.rcParams['figure.figsize'] = [10, 10]\n",
    "\n",
    "# Function that is used to plot spike times\n",
    "def rasterplot(ax, x, y, x_label, y_label):\n",
    "    ax.set_xlabel(x_label)\n",
    "    ax.set_ylabel(y_label)\n",
    "    ax.scatter(x, y, marker='|')\n",
    "    ax.yaxis.set_major_locator(MaxNLocator(integer=True))"
   ]
  },
  {
   "cell_type": "markdown",
   "metadata": {},
   "source": [
    "## 1.2 LIF neuron model\n",
    "\n",
    "The LIF model is defined by [Equation 1.5](https://neuronaldynamics.epfl.ch/online/Ch1.S3.html) in the book $$\\tau_m \\frac{du}{dt} = -(u - u_{rest}) + R I_{syn},$$ where $u=u(t)$ is the membrane potential, $R$ is the membrane resistance and $\\tau_m$ is the membrane time constant, which is related to the time constant of the RC electric circuit in the illustration above. Note that $u(t)$ is a voltage difference across the neuron cell membrane.\n",
    "\n",
    "The equilibrium potential $u_{rest}\\simeq-65$ mV is determined by the dynamic equilibrium between the ion flow through  channels in the membrane (leakage) and the active ion transport by ion pumps (that maintain a concentration difference). Inside the cell the concentration of ions is different from that in the surrounding liquid. The difference in concentration generates an equilibrium electrical potential called the *Nernst potential* which plays an important role in neuronal dynamics, see [Section 2.1](https://neuronaldynamics.epfl.ch/online/Ch2.S1.html).\n",
    "\n",
    "Use a threshold membrane potential of $u_{\\text th}=-50$ mV and a reset potential of $u_{reset}=u_{rest}$ in the following tasks, unless stated otherwise. Use a membrane time constant of $\\tau_m=30$ ms and a membrane resistance of $R=90$ M$\\Omega$.\n",
    "\n",
    "$I_{syn}$ is the total input current to the neuron, which is the sum of postsynaptic currents from all synapses on the neuron. This current can also be defined as a constant injection current to investigate the spike frequency of the LIF neuron for different input currents. This is what you will do in this first task."
   ]
  },
  {
   "cell_type": "markdown",
   "metadata": {},
   "source": [
    "**Task 1:** Complete the code below and calculate the membrane potential $u(t)$ for an input current of $I_{syn}=1$ pA. Plot the membrane potential in the interval $t\\in[0,10]$ s. Use the Euler forward method to integrate the differential equation with a timestep of $dt=10^{-5}$ s.\n",
    "\n",
    "**Check your solution:** The membrane potential should reach an asymptotic value of $-62$ mV after about six seconds."
   ]
  },
  {
   "cell_type": "code",
   "execution_count": 2,
   "metadata": {},
   "outputs": [],
   "source": [
    "# Parameters for Task 1\n",
    "\n",
    "# Timestep\n",
    "dt = 1e-5\n",
    "\n",
    "# Neuron parameters\n",
    "R       = 90e6   # [ohm]\n",
    "tau_m   = 30e-3  # [s]\n",
    "u_rest  = -65e-3 # [V]\n",
    "u_reset = u_rest # [V]\n",
    "u_thres = -50e-3 # [V]"
   ]
  },
  {
   "cell_type": "code",
   "execution_count": 3,
   "metadata": {},
   "outputs": [
    {
     "data": {
      "image/png": "[encoded data removed]",
      "text/plain": [
       "<Figure size 432x288 with 1 Axes>"
      ]
     },
     "metadata": {
      "needs_background": "light"
     },
     "output_type": "display_data"
    }
   ],
   "source": [
    "# Code for Task 1\n",
    "\n",
    "# Input current from synapses\n",
    "I_syn = 1e-12 # [A]\n",
    "\n",
    "# Neuron identifier, only one neuron in this simulation\n",
    "n_id    = 0\n",
    "\n",
    "# Placeholders for u(t), used for plotting\n",
    "t_i = []\n",
    "u_i = []\n",
    "\n",
    "# Placeholders for list of spike times and neuron ID's\n",
    "t_spike = []\n",
    "n_spike = []\n",
    "\n",
    "# Simulate ten seconds of time\n",
    "t = 0  # [s]\n",
    "u = u_rest\n",
    "while t <= 10:\n",
    "    \n",
    "    # Euler forward step\n",
    "    du_dt = (-(u - u_rest) + R * I_syn) / tau_m \n",
    "    u += du_dt*dt\n",
    "    \n",
    "    u_i.append(u)            # Store u(t)\n",
    "\n",
    "    # Spike condition\n",
    "    if u >= u_thres :\n",
    "        t_spike.append(t)    # spike time\n",
    "        n_spike.append(n_id) # neuron ID\n",
    "        u = u_reset\n",
    "    \n",
    "    # Timestep completed\n",
    "    t_i.append(t)\n",
    "    t += dt\n",
    "    \n",
    "# Plot u(t)    \n",
    "fig, ax = plt.subplots()\n",
    "ax.plot(t_i,u_i)\n",
    "ax.set(xlabel='Time [s]', ylabel='Membrane potential u(t)')\n",
    "ax.grid()"
   ]
  },
  {
   "cell_type": "markdown",
   "metadata": {},
   "source": [
    "**Task 2:** Increase the input current $I_{syn}$ in steps of $1$ pA and repeat the simulation. At what value of the input current $I_{syn}$ does the neuron start spiking? Plot the membrane potential $u(t)$ for this value of $I_{syn}$.\n",
    "    \n",
    "**Answer:** 167 pA"
   ]
  },
  {
   "cell_type": "code",
   "execution_count": 4,
   "metadata": {},
   "outputs": [],
   "source": [
    "def SNN_sim(I_syn, t_end=10, t_stimuli=10):\n",
    "    # Neuron identifier, only one neuron in this simulation\n",
    "    n_id = 0\n",
    "\n",
    "    # Placeholders for u(t), used for plotting\n",
    "    t_i = []\n",
    "    u_i = []\n",
    "\n",
    "    # Placeholders for list of spike times and neuron ID's\n",
    "    t_spike = []\n",
    "    n_spike = []\n",
    "\n",
    "    # Simulate ten seconds of time\n",
    "    t = 0  # [s]\n",
    "    u = u_rest\n",
    "    while t <= t_end:\n",
    "        if t > t_stimuli:\n",
    "            I_syn = 0\n",
    "\n",
    "        # Euler forward step\n",
    "        du_dt = (-(u - u_rest) + R * I_syn) / tau_m \n",
    "        u += du_dt*dt\n",
    "\n",
    "        u_i.append(u)            # Store u(t)\n",
    "\n",
    "        # Spike condition\n",
    "        if u >= u_thres :\n",
    "            t_spike.append(t)    # spike time\n",
    "            n_spike.append(n_id) # neuron ID\n",
    "            u = u_reset\n",
    "\n",
    "        # Timestep completed\n",
    "        t_i.append(t)\n",
    "        t += dt\n",
    "        \n",
    "    return(n_spike, t_spike, u_i, t_i)"
   ]
  },
  {
   "cell_type": "code",
   "execution_count": 5,
   "metadata": {},
   "outputs": [
    {
     "name": "stdout",
     "output_type": "stream",
     "text": [
      "Started spiking at: 1.669999999999997e-10 s\n"
     ]
    },
    {
     "data": {
      "image/png": "[encoded data removed]",
      "text/plain": [
       "<Figure size 432x288 with 1 Axes>"
      ]
     },
     "metadata": {
      "needs_background": "light"
     },
     "output_type": "display_data"
    }
   ],
   "source": [
    "# Code for Task 2 \n",
    "\n",
    "# Input current from synapses\n",
    "I_syn = 1e-12 # [A]\n",
    "\n",
    "while True:\n",
    "    (_, t_spike, u_i, t_i) = SNN_sim(I_syn)\n",
    "    if len(t_spike):\n",
    "        print(f\"Started spiking at: {I_syn} s\")\n",
    "        break\n",
    "    I_syn += 1e-12\n",
    "    \n",
    "# Plot u(t)    \n",
    "fig, ax = plt.subplots()\n",
    "ax.plot(t_i,u_i)\n",
    "ax.set(xlabel='Time [s]', ylabel='Membrane potential u(t)')\n",
    "ax.grid()"
   ]
  },
  {
   "cell_type": "markdown",
   "metadata": {},
   "source": [
    "**Task 3:** Calculate the number of spikes generated during 1 second of simulation time for the input currents 10 pA, 100 pA and 1000 pA, respectively. For each value of $I_{syn}$ plot the membrane potential $u(t)$ and the spikes generated using the code provided below.\n",
    "\n",
    "**Answers:**\n",
    "\n",
    "* With $I_{syn}=10$ pA there are 0 spikes generated in one second\n",
    "* With $I_{syn}=100$ pA there are 0 spikes generated in one second\n",
    "* With $I_{syn}=1000$ pA there are 182 spikes generated in one second\n",
    "\n",
    "**Check your solution:** For an input current of 150 pA you should get 29 spikes in one second of simulation time."
   ]
  },
  {
   "cell_type": "code",
   "execution_count": 9,
   "metadata": {},
   "outputs": [
    {
     "name": "stdout",
     "output_type": "stream",
     "text": [
      "During one second of time 182 spikes were generated for an input current of 1000 pA\n"
     ]
    },
    {
     "data": {
      "image/png": "[encoded data removed]",
      "text/plain": [
       "<Figure size 432x288 with 2 Axes>"
      ]
     },
     "metadata": {
      "needs_background": "light"
     },
     "output_type": "display_data"
    }
   ],
   "source": [
    "# Code for Task 3\n",
    "I_syn = 1000e-12\n",
    "(n_spike, t_spike, u_i, t_i) = SNN_sim(I_syn, 1)\n",
    "    \n",
    "print(\"During one second of time %d spikes were generated for an input current of %d pA\" % (len(t_spike),I_syn/1e-12))\n",
    "\n",
    "fig,(ax1,ax2) = plt.subplots(2,1, sharex=True)\n",
    "ax1.plot(t_i,u_i); ax1.set_ylabel('Membrane potential u(t)')\n",
    "rasterplot(ax2, t_spike, n_spike,'Time [s]','Spiking neuron ID')"
   ]
  },
  {
   "cell_type": "markdown",
   "metadata": {},
   "source": [
    "**Task 4:** Plot the spike frequency in Hz for varying input currents in the range $I_{syn}\\in[0, 600]$ pA. This type of plot is called an *f-I Curve* because it illustrates the relation between average spike frequency (f) and stimulus current (I).\n",
    "\n",
    "**Check your solution:** Compare the result with the answers in Task 3.\n",
    "\n",
    "**Improve your understanding:** The resulting plot should look similar to the ReLU activation function used in ANNs. Compare your plot with an illustration of the ReLU activation function. What does the horizontal axis represent in the two cases? What does the vertical axis represent in the two cases?"
   ]
  },
  {
   "cell_type": "code",
   "execution_count": 7,
   "metadata": {},
   "outputs": [
    {
     "data": {
      "image/png": "[encoded data removed]",
      "text/plain": [
       "<Figure size 432x288 with 1 Axes>"
      ]
     },
     "metadata": {
      "needs_background": "light"
     },
     "output_type": "display_data"
    }
   ],
   "source": [
    "# Code for Task 4\n",
    "i=0\n",
    "spikes_i=[]\n",
    "I_i=[]\n",
    "while i <=600:\n",
    "    I_syn = i*1e-12\n",
    "    (n_spike, t_spike, u_i, t_i) = SNN_sim(I_syn, 1)\n",
    "    spikes_i.append(len(n_spike))\n",
    "    I_i.append(I_syn)\n",
    "    i+=1\n",
    "\n",
    "fig, ax = plt.subplots()\n",
    "ax.plot(I_i,spikes_i)\n",
    "ax.set(xlabel='I_syn [pA]', ylabel='Spike rate [Hz]')\n",
    "ax.grid()"
   ]
  },
  {
   "cell_type": "markdown",
   "metadata": {},
   "source": [
    "### 1.2.1 Pulse input\n",
    "\n",
    "When a synapse is stimulated by one presynaptic spike a current pulse is generated, see [Figure 3.2](https://neuronaldynamics.epfl.ch/online/Ch3.S1.html) for examples. The amplitude of the current pulse can be a few hundred pA and depends on the efficacy (weight) of the synapse. $I_{syn}$ represents the sum of current pulses from all synapses on the neuron.\n",
    "\n",
    "In the next task you will investigate the effect on the membrane potential $u(t)$ of one current pulse of varying amplitude and duration, see [Figures 1.6B and 1.7](https://neuronaldynamics.epfl.ch/online/Ch1.S3.html)."
   ]
  },
  {
   "cell_type": "markdown",
   "metadata": {},
   "source": [
    "**Task 5:** Repeat the simulation with the input current $I_{syn}$ set to a constant value in the time interval $t\\in[0,t_{stimuli}]$ and zero otherwise. At what minimum value of $t_{stimuli}$ does the neuron fire one spike for $I_{syn} \\in [100, 200, 300]$ pA? Plot the membrane potential and be prepared to explain the relation between [Figure 1.7](https://neuronaldynamics.epfl.ch/online/Ch1.S3.html) in the book and your results.\n",
    "\n",
    "**Answer:**\n",
    "\n",
    "For $I_{syn}=100$ pA the neuron fires one spike when $t_{stimuli}$ = ??? milliseconds.\n",
    "\n",
    "For $I_{syn}=200$ pA the neuron fires one spike when $t_{stimuli}$ = 54 milliseconds.\n",
    "\n",
    "For $I_{syn}=300$ pA the neuron fires one spike when $t_{stimuli}$ = 25 milliseconds."
   ]
  },
  {
   "cell_type": "code",
   "execution_count": 8,
   "metadata": {},
   "outputs": [
    {
     "name": "stdout",
     "output_type": "stream",
     "text": [
      "t_stimuli: 0.025000000000000015\n"
     ]
    },
    {
     "data": {
      "image/png": "[encoded data removed]",
      "text/plain": [
       "<Figure size 432x288 with 1 Axes>"
      ]
     },
     "metadata": {
      "needs_background": "light"
     },
     "output_type": "display_data"
    }
   ],
   "source": [
    "# Code for Task 5\n",
    "t_stimuli = 0\n",
    "I_syn = 300e-12\n",
    "\n",
    "while True:\n",
    "    \n",
    "    (n_spike,t_spike, u_i, t_i) = SNN_sim(I_syn=I_syn,t_end= 0.1,t_stimuli = t_stimuli) \n",
    "    if len(t_spike):\n",
    "        break\n",
    "    t_stimuli += 1e-3\n",
    "    \n",
    "print(f\"t_stimuli: {t_stimuli}\")  \n",
    "fig, ax = plt.subplots()\n",
    "ax.plot(t_i,u_i)\n",
    "ax.set(xlabel='Time [s]', ylabel='Membrane potential u(t)')\n",
    "ax.grid()"
   ]
  },
  {
   "cell_type": "markdown",
   "metadata": {},
   "source": [
    "### 1.2.2 Limitations of the LIF neuron model\n",
    "\n",
    "To study neuronal dynamics experimentally, neurons can be isolated and stimulated by current injection through an intracellular electrode, see [Figure 1.13](https://neuronaldynamics.epfl.ch/online/Ch1.S5.html).\n",
    "\n",
    "![NeuronExperiment](https://neuronaldynamics.epfl.ch/online/x22.png)\n",
    "\n",
    "A current *I(t)* is experimentally injected in a real neuron with an electrode. The response of the neuron is recorded. Part of the response is used as a training set to optimise the neuron model parameters, while another part of the response is used to cross validate the prediction accuracy of the model.\n",
    "\n",
    "By testing the prediction accuracy of the LIF model with experimental data it is understood that it neglects several aspects of neuronal dynamics, some of which can be accounted for to improve the prediction accuracy."
   ]
  },
  {
   "cell_type": "markdown",
   "metadata": {},
   "source": [
    "**Task 6:** Study [Section 1.4](https://neuronaldynamics.epfl.ch/online/Ch1.S4.html) and [Section 1.5](https://neuronaldynamics.epfl.ch/online/Ch1.S5.html) in the book and *describe* one significant extension that can be made to the LIF neuron model in order to improve the prediction accuracy. Be specific and refer to explicit definitions or descriptions in the book (a figure, equation, sentence etc).\n",
    "\n",
    "**Answer:** ???"
   ]
  },
  {
   "cell_type": "markdown",
   "metadata": {},
   "source": [
    "**Optional task:** Can you implement and demonstrate the extension described in Task 6? If so, you are encouraged to document the result and what you have learned from this optional task in your *self-assessment report*, which is considered in the final grading process. See Canvas for further information."
   ]
  },
  {
   "cell_type": "code",
   "execution_count": null,
   "metadata": {},
   "outputs": [],
   "source": [
    "# Code for optional task\n"
   ]
  },
  {
   "cell_type": "markdown",
   "metadata": {},
   "source": [
    "## 1.3 Simulation of a Spiking Neural Network (SNN)\n",
    "\n",
    "Some additional code is needed to connect multiple LIF neurons into a spiking neural network (SNN). The following code manages the propagation of spikes between interconnected neurons, and also the updating of neurons using the LIF model that you implemented and studied above.\n",
    "\n",
    "The synapses are implemented using the current-based approximation described in the lectures $$\\tau_{syn}\\frac{dI_{syn}}{dt}=-I_{syn},$$ where $I_{syn}$ is the postsynaptic current of the synapse and $\\tau_{syn}$ is the time constant of the synapse. See [Figure 3.2](https://neuronaldynamics.epfl.ch/online/Ch3.S1.html) and the related discussion of time constants for further information. At the time when a presynaptic spike arrives at the synapse the postsynaptic current is updated by the rule $$I_{syn}\\leftarrow I_{syn}+w_{syn},$$ where $w_{syn}$ is the efficacy (weight) of the synapse. For excitatory synapses $w_{syn}\\geq 0$, while $w_{syn} \\leq 0$ for inhibitory synapses.\n",
    "\n",
    "This model of the postsynaptic current is more realistic than the current pulse studied in Task 5. The model results in a momentaneous change of $I_{syn}$ by $w$ when a spike arrives, followed by exponential decay of $I_{syn}$ with time constant $\\tau_{syn}$ in the absence of stimuli.\n",
    "\n",
    "### 1.3.1 A basic SNN simulator"
   ]
  },
  {
   "cell_type": "code",
   "execution_count": null,
   "metadata": {},
   "outputs": [],
   "source": [
    "def lif_cic_neuron(I_syn, u_rest=-65e-3, u_reset=-65e-3, u_thres=-50e-3, R=90e6, tau_m=30e-3):\n",
    "    # LIF neuron with a constant input current I_syn\n",
    "    return {\n",
    "        'type'    : 'lif_cic',\n",
    "        'u'       : u_reset,                   # Membrane potential [Volt]\n",
    "        'u_rest'  : u_rest,                    # Leakage resting potential [Volt]\n",
    "        'u_reset' : u_reset,                   # Reset potential after spike [Volt]\n",
    "        'u_thres' : u_thres,                   # Threshold for spike generation [Volt]\n",
    "        'R'       : R,                         # Membrane resistance [Ohm]\n",
    "        'tau_m'   : tau_m,                     # Membrane time constant [second]\n",
    "        'I_syn'   : I_syn,                     # Postsynaptic current [Ampere]\n",
    "    }\n",
    "\n",
    "def lif_neuron(num_synapses, u_rest=-65e-3, u_reset=-65e-3, u_thres=-50e-3, R=90e6, tau_m=30e-3, tau_syn=50e-3):\n",
    "    # LIF neuron with current-based synapses (see lecture)\n",
    "    return {\n",
    "        'type'    : 'lif',\n",
    "        'u'       : u_reset,                   # Membrane potential [Volt]\n",
    "        'u_rest'  : u_rest,                    # Leakage resting potential [Volt]\n",
    "        'u_reset' : u_reset,                   # Reset potential after spike [Volt]\n",
    "        'u_thres' : u_thres,                   # Threshold for spike generation [Volt]\n",
    "        'R'       : R,                         # Membrane resistance [Ohm]\n",
    "        'tau_m'   : tau_m,                     # Membrane time constant [second]\n",
    "        'tau_syn' : tau_syn,                   # Synapse time constant [second] (can also be an array)\n",
    "        'I_syn'   : np.zeros(num_synapses),    # Postsynaptic currents [Ampere]\n",
    "        'w_syn'   : np.zeros(num_synapses)     # Synaptic weights [Ampere]\n",
    "    }\n",
    "\n",
    "def integrate(dt, t, neurons):\n",
    "    # This function integrates the membrane potential, synaptic currents etc one timestep dt\n",
    "    for n in neurons:\n",
    "        if n['type'] == 'lif_cic':\n",
    "            dudt = (n['u_rest'] - n['u'] + n['R']*n['I_syn']) / n['tau_m']\n",
    "            n['u'] += dt*dudt\n",
    "        elif n['type'] == 'lif':\n",
    "            didt = np.divide(-n['I_syn'], n['tau_syn'])\n",
    "            n['I_syn'] += dt*didt\n",
    "            dudt = (n['u_rest'] - n['u'] + n['R']*sum(n['I_syn'])) / n['tau_m']\n",
    "            n['u'] += dt*dudt\n",
    "\n",
    "def spikegen(dt, t, neurons):\n",
    "    # This function implements the non-linear spike generation mechanism\n",
    "    spikes = []\n",
    "    for i,n in enumerate(neurons):\n",
    "        if n['type'] in ['lif_cic','lif']:\n",
    "            if n['u'] > n['u_thres']:\n",
    "                n['u'] = n['u_reset']\n",
    "                spikes.append(i)\n",
    "    return spikes\n",
    "\n",
    "def snn_update(dt, t, neurons, connections):\n",
    "    # This function updates the state of a spiking neural network by calling the functions above\n",
    "    spikes = spikegen(dt, t, neurons)\n",
    "    for (post, syn, pre) in connections:\n",
    "        for spike in spikes:\n",
    "            if spike == pre:\n",
    "                if neurons[post]['type'] == 'lif':\n",
    "                    neurons[post]['I_syn'][syn] += neurons[post]['w_syn'][syn]\n",
    "                else:\n",
    "                    print('Error: Spike sent to neuron type without synapses')\n",
    "    integrate(dt, t, neurons)\n",
    "    return spikes"
   ]
  },
  {
   "cell_type": "markdown",
   "metadata": {},
   "source": [
    "### 1.3.2 Example: Define a population of neurons"
   ]
  },
  {
   "cell_type": "code",
   "execution_count": null,
   "metadata": {},
   "outputs": [],
   "source": [
    "n0 = lif_cic_neuron(200e-12);        # LIF neuron with constant input current of 200 pA\n",
    "\n",
    "n1 = lif_neuron(1);                  # LIF neuron with one dynamic synapse\n",
    "n2 = lif_neuron(2);                  # LIF neuron with two dynamic synapses\n",
    "\n",
    "neurons = [n0, n1, n2]               # A population of three neurons\n",
    "\n",
    "t = 0                                # Reset the simulation time"
   ]
  },
  {
   "cell_type": "markdown",
   "metadata": {},
   "source": [
    "### 1.3.3 Example: Connect the neurons\n",
    "\n",
    "Given an array of neurons, each connection between two neurons is defined by three integers:\n",
    "\n",
    "0. The index of the postsynaptic neuron (the destination), here referred to as 'post'.\n",
    "1. The index of the synapse on the postsynaptic neuron, here referred to as 'syn'.\n",
    "2. The index of the presynaptic neuron (the source), here referred to as 'pre'.\n",
    "\n",
    "Thus, an array defining all connections has the following structure  \n",
    "\n",
    "    connections = [[post,syn,pre], [post,syn,pre], ... ]\n",
    "\n",
    "Each triplet [post, syn, pre] configures one connection between two neurons via one synapse\n",
    "\n",
    "$$post : syn \\leftarrow  pre$$"
   ]
  },
  {
   "cell_type": "code",
   "execution_count": null,
   "metadata": {},
   "outputs": [],
   "source": [
    "connections = [[1,0,0],    # n1 receives spikes from n0 on synapse 0\n",
    "               [2,0,0],    # n2 receives spikes from n0 on synapse 0\n",
    "               [2,1,1]]    # n2 also receives spikes from n1 on synapse 1\n",
    "\n",
    "n1['w_syn'][0] = 300e-12   # Excitatory synapse with weight 300 pA\n",
    "\n",
    "n2['w_syn'][0] = 300e-12   # Excitatory synapse with weight 300 pA\n",
    "n2['w_syn'][1] = -100e-12  # Inhibitory synapse with weight -100 pA"
   ]
  },
  {
   "cell_type": "markdown",
   "metadata": {},
   "source": [
    "### 1.3.4 Example: Integrate equations over time\n",
    "\n",
    "Integrate the equations describing the dynamics of neurons and synapses over time and store any variables needed for plotting at each time step. **Observe** that the neurons are stateful, you have to re-run Cell 1.3.2 where the neuron population is defined to reset the simulation."
   ]
  },
  {
   "cell_type": "code",
   "execution_count": null,
   "metadata": {},
   "outputs": [],
   "source": [
    "dt = 1e-5\n",
    "\n",
    "t0 = t\n",
    "tv = []\n",
    "u1 = []\n",
    "u2 = []\n",
    "t_spike = []\n",
    "n_spike = []\n",
    "\n",
    "while t < t0+1:\n",
    "\n",
    "    # Update the network\n",
    "    spikes = snn_update(dt, t, neurons, connections)\n",
    "    \n",
    "    # Store membrane potentials of n1 and n2 for plotting/analysis\n",
    "    tv.append(t)\n",
    "    u1.append(n1['u'])\n",
    "    u2.append(n2['u'])\n",
    "    \n",
    "    # Store spikes needed for plotting/analysis\n",
    "    if len(spikes)>0:\n",
    "        for s in spikes:\n",
    "            t_spike.append(t)\n",
    "            n_spike.append(s)\n",
    "\n",
    "    # Timestep completed\n",
    "    t += dt\n",
    "    \n",
    "plt.rcParams['figure.figsize'] = [10, 10]\n",
    "fig,(ax1,ax2,ax3) = plt.subplots(3,1, sharex=True)\n",
    "ax1.plot(tv,u2); ax1.set_ylabel('Membrane potential u2(t)')\n",
    "ax2.plot(tv,u1); ax2.set_ylabel('Membrane potential u1(t)')\n",
    "rasterplot(ax3, t_spike, n_spike,'Time [s]','Neuron index')"
   ]
  },
  {
   "cell_type": "markdown",
   "metadata": {},
   "source": [
    "**Task 7:** How many times does neuron n2 spike in the simulation above, and why does it spike with a lower frequency than n1 although both neurons have excitatory synapses with the same weight? Be prepared to motivate your answer.\n",
    "\n",
    "**Answer:** ???"
   ]
  },
  {
   "cell_type": "markdown",
   "metadata": {},
   "source": [
    "### 1.3.5 Implementing your first SNN\n",
    "\n",
    "**Task 8:** Define a new neuron population and new connections between these neurons. Investigate what happens when one LIF neuron called nsum receives spike inputs from multiple LIF neurons with constant input currents (lif_cic neurons) of I_syn = 200 pA. What is the spike rate of nsum for one input, two inputs, three inputs etc? Use excitatory synapses with weights 300 pA. How much does the spike rate increase for each additional input?\n",
    "\n",
    "Run the simulation for 1 second before starting the spike rate estimation (there is an initial delay before the neuron starts spiking that can affect the spike rate estimation otherwise).\n",
    "\n",
    "**Answer:**\n",
    "\n",
    "With one input neuron the spike rate is ???\n",
    "\n",
    "With two input neurons ???\n",
    "\n",
    "???"
   ]
  },
  {
   "cell_type": "code",
   "execution_count": null,
   "metadata": {},
   "outputs": [],
   "source": [
    "# Code for Task 8\n",
    "\n",
    "in1 = lif_cic_neuron(200e-12);\n",
    "in2 = lif_cic_neuron(200e-12);\n",
    "...\n",
    "\n",
    "nsum = lif_neuron(5);\n",
    "nsum['w_syn'][0] = 300e-12\n",
    "...\n",
    "\n",
    "neurons = [nsum, in1, ...\n",
    "           \n",
    "connections = ...\n",
    "\n",
    "..."
   ]
  },
  {
   "cell_type": "markdown",
   "metadata": {},
   "source": [
    "**Optional task:** Can you implement another SNN example available in [Neuronify](https://ovilab.net/neuronify/) using this code? If so, you are encouraged to document the result and what you have learned from this optional task in your self-assessment report. Task 8 is inspired by one of the Neuronify examples, which one?"
   ]
  },
  {
   "cell_type": "code",
   "execution_count": null,
   "metadata": {},
   "outputs": [],
   "source": [
    "# Code for optional task\n"
   ]
  },
  {
   "cell_type": "markdown",
   "metadata": {},
   "source": [
    "### 1.3.6 Hint for Retina project\n",
    "There is a direction selective network example in [Neuronify](https://ovilab.net/neuronify/) that can be used as inspiration to construct a basic motion detection network for the Retina project using the SNN simulator developed in this exercise. In the next SNN exercise you will implement synaptic plasticity, which is the primary mechanism for learning in SNNs.\n",
    "\n",
    "In the final part of this exercise you will investigate a method that is useful for converting arbitrary analog/sampled signals into spike patterns, which can be processed with an SNN."
   ]
  },
  {
   "cell_type": "markdown",
   "metadata": {},
   "source": [
    "## 1.4 Sensory neurons and the delta modulator model\n",
    "\n",
    "Sensory neurons convert a specific type of stimulus like light, sound or touch intensity into action potentials (or in some cases also graded non-spiking potentials not further discussed here). This process is called sensory transduction. Refer to https://en.wikipedia.org/wiki/Sensory_neuron for a an overview.\n",
    "\n",
    "<div>\n",
    "<img src=\"https://upload.wikimedia.org/wikipedia/commons/1/17/Structure_of_sensory_system_%284_models%29_E.PNG\" width=\"400\"/>\n",
    "</div>\n",
    "\n",
    "Neural encoding concerns the map from stimulus to response and investigating how neurons respond to different stimuli, as well as construction of models that predict the responses for novel stimuli (generalization). This is an active area of research. See [Section 7.6.2](https://neuronaldynamics.epfl.ch/online/Ch7.S6.html) for information about different candidate encoding concepts. If you are interested to study the details of sensory neurons and systems, the book [Neuroscience](https://www.bokus.com/bok/9781605358413/neuroscience/) by Dale Purves et. al. is recommended because of the many helpful illustrations and in-depth biological presentations.\n",
    "\n",
    "In the final part of this exercise you will investigate the asynchronous delta modulator model that is introduced in the lecture about sensory systems. This concept is used to map analog voltages and currents to spikes in neuromorphic sensors like [brain machine interfaces](https://doi.org/10.1109/TBCAS.2015.2479256) and [neuromorphic vision sensors](https://en.wikipedia.org/wiki/Event_camera).\n",
    "\n",
    "The idea is to measure *differences* in the intensity/amplitude of the signal and generate a spike whenever the intensity increases or decreases by an anount $\\delta$, hence the name *asynchronous delta modulator*. The figure below illustrates the idea. There are two output neurons for each signal in this model, denoted *UP* and *DN*, which fires a spike whenever the intensity increases (UP) or decreases (DN).\n",
    "\n",
    "![Delta modulator concept](https://drive.google.com/uc?export=view&id=1VYCbScz6k5yvhwb0h6XYDdLQ-q_3KgAh)\n",
    "\n",
    "The intensity is typically a logarithmic function of the signal amplitude in biology and neuromorphic systems, leading to sensor systems with high [dynamic range](https://en.wikipedia.org/wiki/Dynamic_range).\n",
    "\n",
    "### 1.4.1 Encoder function\n",
    "\n",
    "The delta modulator encodes one time-varying signal $y(t)$ in two spiketrains representing positive and negative amplitude changes in discrete steps $\\pm\\delta_y$. The amplitude resolution and average spikerate depends on the parameter $\\delta_y$. This is similar to pulse interval/frequency modulation, which may be familiar if you have studied digital communication.\n",
    "\n",
    "**Task 9:** Complete the encoder implementation below so that it generates UP and DN spikes from an input sequence $y_i(t_i)$ as described in the figure above. Whenever the amplitude $y$ has increased by an amount $\\delta_y$ an up spike should be generated. If the amplitude $y$ decreases by an amount $\\delta_y$ a down spike should be generated. The list of generated up and down spike times should be returned from the encoder function. The subsequent example *Encoding a sine wave* and Task 10 should be used to verify that your encoder implementation is correct."
   ]
  },
  {
   "cell_type": "code",
   "execution_count": null,
   "metadata": {},
   "outputs": [],
   "source": [
    "def delta_encode(t,y,deltay):\n",
    "    \n",
    "    # Arrays of spike times\n",
    "    t_up = []\n",
    "    t_dn = []\n",
    "    \n",
    "    # Initial values of time and signal amplitude y\n",
    "    tprev = t[0];\n",
    "    yprev = y[0];\n",
    "    \n",
    "    # For each time step and signal amplitude value\n",
    "    for ti, yi in zip(t[1:], y[1:]):\n",
    "\n",
    "        # Amplitude change since last spike\n",
    "        dy = ???\n",
    "        \n",
    "        # Number of spikes generated \n",
    "        nspikes = int( ??? ) # round towards zero\n",
    "        \n",
    "        # Generate up/down spike times\n",
    "        if nspikes != 0:\n",
    "        \n",
    "            # Time step between spikes\n",
    "            dt = abs( ??? ) ???\n",
    "            \n",
    "            # Append spike times to the arrays\n",
    "            if nspikes > 0:\n",
    "                t_up.append(np.arange(1,1+nspikes)*dt + tprev)\n",
    "                tprev = t_up[-1]\n",
    "            elif nspikes < 0:\n",
    "                t_dn.append(np.arange(1,1-nspikes)*dt + tprev)\n",
    "                tprev = t_dn[-1]\n",
    "            \n",
    "            # Update the y value corresponding to the last (previous) spike\n",
    "            yprev += nspikes*deltay\n",
    "            \n",
    "    return t_up, t_dn"
   ]
  },
  {
   "cell_type": "markdown",
   "metadata": {},
   "source": [
    "### Example: Encoding a sine wave\n",
    "\n",
    "Example where a sine wave is encoded with the delta modulator. The resulting up and down spike times are visualised. Use this example to check that your encoder implementation produces reasonable output spike times. Modify the $\\delta_y$ parameter and note how the UP/DN spike outputs are affected."
   ]
  },
  {
   "cell_type": "code",
   "execution_count": null,
   "metadata": {},
   "outputs": [],
   "source": [
    "# Define time array t\n",
    "\n",
    "dt = 1e-4                  # 0.1 millisecond steps\n",
    "t = np.arange(1,10000)*dt\n",
    "\n",
    "# Define 5 Hz sine wave y(t)\n",
    "frequency = 5\n",
    "omega = 2.0*3.1415*frequency\n",
    "y = np.sin(omega*t)\n",
    "\n",
    "# Encode signal y(t) with spike times using the delta modulator\n",
    "dy = 0.2\n",
    "(t_up, t_dn) = delta_encode(t,y,dy)\n",
    "\n",
    "# Plot the result\n",
    "fig,(ax1,ax2,ax3) = plt.subplots(3,1, sharex=True)\n",
    "ax1.plot(t,y); ax1.set_ylabel('Signal, y(t)');\n",
    "rasterplot(ax2, t_up, np.ones(len(t_up)),'Time [s]','Up spikes')\n",
    "rasterplot(ax3, t_dn, np.ones(len(t_dn)),'Time [s]','Down spikes')"
   ]
  },
  {
   "cell_type": "markdown",
   "metadata": {},
   "source": [
    "### Decoding\n",
    "\n",
    "Decoding refers to the reverse map, from spike response to reconstructed stimulus. To decode the sequence of up- and down spikes generated by the delta modulator encoder into a time-varying signal $y_i(t_i)$ the process is reversed by the operations $y = y+\\delta_y$ at the time of every UP spike and $y = y-\\delta_y$ at the time of every DN spike. The decoding function is provided below. "
   ]
  },
  {
   "cell_type": "code",
   "execution_count": null,
   "metadata": {},
   "outputs": [],
   "source": [
    "def delta_decode(deltay, t_up, t_dn):\n",
    "    t = [0]\n",
    "    y = [0]\n",
    "    i=j=0\n",
    "    while 1:\n",
    "        if i < len(t_up) and j < len(t_dn):\n",
    "            if t_up[i] < t_dn[j]:\n",
    "                y.append(y[-1]+deltay)\n",
    "                t.append(t_up[i])\n",
    "                i += 1\n",
    "            elif t_dn[j] < t_up[i]:\n",
    "                y.append(y[-1]-deltay)\n",
    "                t.append(t_dn[j])\n",
    "                j += 1\n",
    "        elif i < len(t_up):\n",
    "            y.append(y[-1]+deltay)\n",
    "            t.append(t_up[i])\n",
    "            i += 1\n",
    "        elif j < len(t_dn):\n",
    "            y.append(y[-1]-deltay)\n",
    "            t.append(t_dn[j])\n",
    "            j += 1\n",
    "        else:\n",
    "            break\n",
    "            \n",
    "    return t, y"
   ]
  },
  {
   "cell_type": "markdown",
   "metadata": {},
   "source": [
    "**Task 10:** Run the following code to verify that your encoder implemented in Task 9 produces UP/DN spikes that enables correct decoding of the signal. Plot the reconstructed signal for different values of $\\delta_y \\in [0.4, 0.3, 0.2, 0.1, ...]$.\n",
    "\n",
    "**Check your solution:** For small values of $\\delta_y$ the reconstructed signal should appear identical to the original 5 Hz sine wave."
   ]
  },
  {
   "cell_type": "code",
   "execution_count": null,
   "metadata": {},
   "outputs": [],
   "source": [
    "dt = 1e-4                  # 0.1 millisecond steps\n",
    "\n",
    "# Time array t\n",
    "t = np.arange(1,10000)*dt\n",
    "\n",
    "# 5 Hz sine wave y(t)\n",
    "frequency = 5\n",
    "omega = 2.0*3.1415*frequency\n",
    "y = np.sin(omega*t)\n",
    "\n",
    "# Encode signal y(t) with spike times using the delta modulator\n",
    "dy = 0.1\n",
    "(t_up, t_dn) = delta_encode(t, y, dy)\n",
    "\n",
    "# Reconstruct signal with decoder\n",
    "(tr, yr) = delta_decode(dy, t_up, t_dn)\n",
    "\n",
    "# Plot the result\n",
    "fig,(ax1,ax2,ax3,ax4) = plt.subplots(4,1, sharex=True)\n",
    "ax1.plot(t,y); ax1.set_ylabel('Signal, y(t)');\n",
    "rasterplot(ax2, t_up, np.ones(len(t_up)),'Time [s]','Up spikes')\n",
    "rasterplot(ax3, t_dn, np.ones(len(t_dn)),'Time [s]','Down spikes')\n",
    "ax4.plot(tr,yr); ax4.set_ylabel('Reconstruction, r(t)');"
   ]
  },
  {
   "cell_type": "markdown",
   "metadata": {},
   "source": [
    "**Optional task:** Extend the basic SNN simulator above so that an SNN can receive inputs from sensory neurons implemented with the delta modulator encoder. Modify the encoding function so that you can stimulate an SNN with an arbitrary signal of type $y_i(t_i)$. Can you implement the *reciprocal inhibition* example in [Neuronify](https://ovilab.net/neuronify/) using your extended simulator, so that the circuit selectively can ouput only UP or DN events? Do you see some similarity between the behaviour of this simple circuit and the concept of attention in cognition? You are encouraged to document the result and what you have learned from this optional task in your self-assessment report."
   ]
  },
  {
   "cell_type": "code",
   "execution_count": null,
   "metadata": {},
   "outputs": [],
   "source": [
    "# Code for optional task\n"
   ]
  },
  {
   "cell_type": "markdown",
   "metadata": {},
   "source": [
    "### Additional references\n",
    "\n",
    "[Python exercise on LIF neurons](https://lcn-neurodynex-exercises.readthedocs.io/en/latest/exercises/leaky-integrate-and-fire.html) based on Brian2 at the website of the Neuronal Dynamics course book."
   ]
  }
 ],
 "metadata": {
  "kernelspec": {
   "display_name": "Python 3",
   "language": "python",
   "name": "python3"
  },
  "language_info": {
   "codemirror_mode": {
    "name": "ipython",
    "version": 3
   },
   "file_extension": ".py",
   "mimetype": "text/x-python",
   "name": "python",
   "nbconvert_exporter": "python",
   "pygments_lexer": "ipython3",
   "version": "3.6.12"
  }
 },
 "nbformat": 4,
 "nbformat_minor": 2
}
